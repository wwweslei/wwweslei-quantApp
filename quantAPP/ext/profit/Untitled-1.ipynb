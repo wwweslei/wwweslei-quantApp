{
 "metadata": {
  "language_info": {
   "codemirror_mode": {
    "name": "ipython",
    "version": 3
   },
   "file_extension": ".py",
   "mimetype": "text/x-python",
   "name": "python",
   "nbconvert_exporter": "python",
   "pygments_lexer": "ipython3",
   "version": "3.9.4"
  },
  "orig_nbformat": 2,
  "kernelspec": {
   "name": "python3",
   "display_name": "Python 3.9.4 64-bit ('.venv': venv)"
  },
  "metadata": {
   "interpreter": {
    "hash": "c3fe37bb29c4612d2af316e710ac68b159dc2528420990cbeb8a542f85383c10"
   }
  },
  "interpreter": {
   "hash": "c3fe37bb29c4612d2af316e710ac68b159dc2528420990cbeb8a542f85383c10"
  }
 },
 "nbformat": 4,
 "nbformat_minor": 2,
 "cells": [
  {
   "cell_type": "code",
   "execution_count": 8,
   "source": [
    "import yfinance as yf\r\n",
    "import pandas as pd\r\n",
    "ticker = yf.Ticker('petr4.sa')\r\n",
    "d = ticker.info"
   ],
   "outputs": [],
   "metadata": {}
  },
  {
   "cell_type": "code",
   "execution_count": 13,
   "source": [
    "d.keys()"
   ],
   "outputs": [
    {
     "output_type": "execute_result",
     "data": {
      "text/plain": [
       "dict_values(['20031-912', 'Energy', 49050, 'PetrÃ³leo Brasileiro S.A. - Petrobras produce and sells oil and gas in Brazil and internationally. It engages in prospecting, drilling, refining, processing, trading, and transporting crude oil from producing onshore and offshore oil fields, and shale or other rocks, as well as oil products, natural gas, and other liquid hydrocarbons. The company operates through Exploration and Production; Refining, Transportation and Marketing; Gas and Power; and Corporate and Other Businesses segments. The Exploration and Production segment explores for, develops, and produces crude oil, natural gas liquids, and natural gas primarily for supplies to the its domestic refineries. The Refining, Transportation and Marketing segment engages in the refining, logistics, transport, marketing, and trading of crude oil and oil products; exportation of ethanol; and extraction and processing of shale, as well as holding interests in petrochemical companies. The Gas and Power segment engages in the logistic and trading of natural gas and electricity; generation of electricity through thermoelectric power plants; holding interests in transportation and distribution of natural gas; and fertilizer production business. The Corporate and Other Businesses segment produces biodiesel and its co-products, and ethanol; and distributes oil products. PetrÃ³leo Brasileiro S.A. - Petrobras was founded in 1953 and is headquartered in Rio de Janeiro, Brazil.', 'Rio De Janeiro', '55 21 3224 4477', 'RJ', 'Brazil', [], 'http://petrobras.com.br/pt', 1, 'Avenida RepUblica do Chile, 65', 'Oil & Gas Integrated', 'Centro', 0.56278, 0.22905001, 0.54998, 153184993280, 0.086, 0.36449, 139552997376, 23.5, 'none', 123962000000, 89936502784, 26, 26.9, None, 1.237, 0.057350002, 11, 28.55, 126.252, 0.20622998, 40, 71453999104, 404315996160, 247971004416, 5.478, 'BRL', 19.01, 0.722, None, 'SAO', 'PETROBRAS   PN      N2', 'Petróleo Brasileiro S.A. - Petrobras', 'America/Sao_Paulo', 'BRT', False, '-10800000', 'EQUITY', 'PETR4.SA', 'finmb_409268', 'br_market', None, 2.788, None, 4.954, 0.19450593, None, 3.08, None, 5601970176, None, None, None, 24.026, None, None, None, 1609372800, 0.34418, 56797999104, 4.354, 0.792834, 0.34707916, 1.1196204, 0.16088, 1672444800, None, 1617148800, None, None, 8250196414, 1.46279, 691383697408, 2, None, 1209340800, '2:1', None, 1618444800, None, None, 1.4381033, None, None, None, 8.733767, None, None, None, 13044200448, None, None, 26.96, 27, 26.192099, 0.029191395, 0.0001, None, 27.22, None, 59733737, 26.96, 28.301945, 0.787, 27, None, 59733737, None, None, 0.79, 1618444800, None, None, 26.71, 'BRL', 6.1782265, 37427800, None, None, None, 356607918080, None, None, 67545032, 26.71, 26.91, 0, 37427800, 31.76, None, None, 17.74, 26.93, False, 0.0294, 0, 27.22, 26.9, 'https://logo.clearbit.com/petrobras.com.br'])"
      ]
     },
     "metadata": {},
     "execution_count": 13
    }
   ],
   "metadata": {}
  }
 ]
}