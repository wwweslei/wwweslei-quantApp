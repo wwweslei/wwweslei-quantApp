{
 "metadata": {
  "language_info": {
   "codemirror_mode": {
    "name": "ipython",
    "version": 3
   },
   "file_extension": ".py",
   "mimetype": "text/x-python",
   "name": "python",
   "nbconvert_exporter": "python",
   "pygments_lexer": "ipython3",
   "version": "3.9.4"
  },
  "orig_nbformat": 2,
  "kernelspec": {
   "name": "python3",
   "display_name": "Python 3.9.4 64-bit ('.venv': venv)"
  },
  "metadata": {
   "interpreter": {
    "hash": "c3fe37bb29c4612d2af316e710ac68b159dc2528420990cbeb8a542f85383c10"
   }
  },
  "interpreter": {
   "hash": "c3fe37bb29c4612d2af316e710ac68b159dc2528420990cbeb8a542f85383c10"
  }
 },
 "nbformat": 4,
 "nbformat_minor": 2,
 "cells": [
  {
   "cell_type": "code",
   "execution_count": 3,
   "metadata": {},
   "outputs": [
    {
     "output_type": "stream",
     "name": "stderr",
     "text": [
      "c:\\Users\\wwwes\\Documents\\wwweslei-quantApp\\.venv\\lib\\site-packages\\pyfolio\\pos.py:26: UserWarning: Module \"zipline.assets\" not found; mutltipliers will not be applied to position notionals.\n  warnings.warn(\n"
     ]
    }
   ],
   "source": [
    "import pandas_datareader.data as web\n",
    "import pandas as pd\n",
    "import pyfolio as pf\n",
    "from datetime import datetime\n",
    "# q = web.get_data_alphavantage(\"AAPL\", \"av-daily\", start=datetime(2017, 2, 9), end=datetime(2017, 5, 24), api_key=\"EL5PEVKNPNABAHJB\")\n",
    "# f = web.DataReader(\"usd/brl\", \"av-forex-daily\", api_key=\"EL5PEVKNPNABAHJB\")"
   ]
  },
  {
   "cell_type": "code",
   "execution_count": 23,
   "metadata": {},
   "outputs": [
    {
     "output_type": "execute_result",
     "data": {
      "text/plain": [
       "              open    high      low   close   volume\n",
       "2002-12-06   39.00   43.20   38.900   42.90  5510200\n",
       "2002-12-09   42.70   42.80   41.140   42.02   629900\n",
       "2002-12-10   42.05   43.30   41.650   42.75   344600\n",
       "2002-12-11   42.70   45.50   42.300   45.06   509800\n",
       "2002-12-12   45.06   45.06   43.600   43.91   271100\n",
       "...            ...     ...      ...     ...      ...\n",
       "2021-06-28  218.78  218.80  214.320  215.22   985892\n",
       "2021-06-29  215.42  216.08  213.190  213.30  1243174\n",
       "2021-06-30  213.19  213.71  211.220  212.68  1403001\n",
       "2021-07-01  213.42  214.39  212.290  214.20  1222784\n",
       "2021-07-02  214.81  215.56  212.725  213.52   733661\n",
       "\n",
       "[4675 rows x 5 columns]"
      ],
      "text/html": "<div>\n<style scoped>\n    .dataframe tbody tr th:only-of-type {\n        vertical-align: middle;\n    }\n\n    .dataframe tbody tr th {\n        vertical-align: top;\n    }\n\n    .dataframe thead th {\n        text-align: right;\n    }\n</style>\n<table border=\"1\" class=\"dataframe\">\n  <thead>\n    <tr style=\"text-align: right;\">\n      <th></th>\n      <th>open</th>\n      <th>high</th>\n      <th>low</th>\n      <th>close</th>\n      <th>volume</th>\n    </tr>\n  </thead>\n  <tbody>\n    <tr>\n      <th>2002-12-06</th>\n      <td>39.00</td>\n      <td>43.20</td>\n      <td>38.900</td>\n      <td>42.90</td>\n      <td>5510200</td>\n    </tr>\n    <tr>\n      <th>2002-12-09</th>\n      <td>42.70</td>\n      <td>42.80</td>\n      <td>41.140</td>\n      <td>42.02</td>\n      <td>629900</td>\n    </tr>\n    <tr>\n      <th>2002-12-10</th>\n      <td>42.05</td>\n      <td>43.30</td>\n      <td>41.650</td>\n      <td>42.75</td>\n      <td>344600</td>\n    </tr>\n    <tr>\n      <th>2002-12-11</th>\n      <td>42.70</td>\n      <td>45.50</td>\n      <td>42.300</td>\n      <td>45.06</td>\n      <td>509800</td>\n    </tr>\n    <tr>\n      <th>2002-12-12</th>\n      <td>45.06</td>\n      <td>45.06</td>\n      <td>43.600</td>\n      <td>43.91</td>\n      <td>271100</td>\n    </tr>\n    <tr>\n      <th>...</th>\n      <td>...</td>\n      <td>...</td>\n      <td>...</td>\n      <td>...</td>\n      <td>...</td>\n    </tr>\n    <tr>\n      <th>2021-06-28</th>\n      <td>218.78</td>\n      <td>218.80</td>\n      <td>214.320</td>\n      <td>215.22</td>\n      <td>985892</td>\n    </tr>\n    <tr>\n      <th>2021-06-29</th>\n      <td>215.42</td>\n      <td>216.08</td>\n      <td>213.190</td>\n      <td>213.30</td>\n      <td>1243174</td>\n    </tr>\n    <tr>\n      <th>2021-06-30</th>\n      <td>213.19</td>\n      <td>213.71</td>\n      <td>211.220</td>\n      <td>212.68</td>\n      <td>1403001</td>\n    </tr>\n    <tr>\n      <th>2021-07-01</th>\n      <td>213.42</td>\n      <td>214.39</td>\n      <td>212.290</td>\n      <td>214.20</td>\n      <td>1222784</td>\n    </tr>\n    <tr>\n      <th>2021-07-02</th>\n      <td>214.81</td>\n      <td>215.56</td>\n      <td>212.725</td>\n      <td>213.52</td>\n      <td>733661</td>\n    </tr>\n  </tbody>\n</table>\n<p>4675 rows × 5 columns</p>\n</div>"
     },
     "metadata": {},
     "execution_count": 23
    }
   ],
   "source": [
    "d = web.get_data_alphavantage(\"cme\", api_key=\"EL5PEVKNPNABAHJB\")\n",
    "d\n"
   ]
  },
  {
   "cell_type": "code",
   "execution_count": 31,
   "metadata": {},
   "outputs": [
    {
     "output_type": "execute_result",
     "data": {
      "text/plain": [
       "              Value\n",
       "Date               \n",
       "2021-07-01  4319.94"
      ],
      "text/html": "<div>\n<style scoped>\n    .dataframe tbody tr th:only-of-type {\n        vertical-align: middle;\n    }\n\n    .dataframe tbody tr th {\n        vertical-align: top;\n    }\n\n    .dataframe thead th {\n        text-align: right;\n    }\n</style>\n<table border=\"1\" class=\"dataframe\">\n  <thead>\n    <tr style=\"text-align: right;\">\n      <th></th>\n      <th>Value</th>\n    </tr>\n    <tr>\n      <th>Date</th>\n      <th></th>\n    </tr>\n  </thead>\n  <tbody>\n    <tr>\n      <th>2021-07-01</th>\n      <td>4319.94</td>\n    </tr>\n  </tbody>\n</table>\n</div>"
     },
     "metadata": {},
     "execution_count": 31
    }
   ],
   "source": [
    "import quandl\n",
    "key= \"ALhffY5x9h5hoQNzYe_u\"\n",
    "quandl.get(\"MULTPL/SP500_REAL_PRICE_MONTH\").tail(1)"
   ]
  },
  {
   "cell_type": "code",
   "execution_count": 36,
   "metadata": {},
   "outputs": [
    {
     "output_type": "execute_result",
     "data": {
      "text/plain": [
       "              sp500\n",
       "DATE               \n",
       "2016-07-05  2088.55\n",
       "2016-07-06  2099.73\n",
       "2016-07-07  2097.90\n",
       "2016-07-08  2129.90\n",
       "2016-07-11  2137.16\n",
       "...             ...\n",
       "2021-06-28  4290.61\n",
       "2021-06-29  4291.80\n",
       "2021-06-30  4297.50\n",
       "2021-07-01  4319.94\n",
       "2021-07-02  4352.34\n",
       "\n",
       "[1304 rows x 1 columns]"
      ],
      "text/html": "<div>\n<style scoped>\n    .dataframe tbody tr th:only-of-type {\n        vertical-align: middle;\n    }\n\n    .dataframe tbody tr th {\n        vertical-align: top;\n    }\n\n    .dataframe thead th {\n        text-align: right;\n    }\n</style>\n<table border=\"1\" class=\"dataframe\">\n  <thead>\n    <tr style=\"text-align: right;\">\n      <th></th>\n      <th>sp500</th>\n    </tr>\n    <tr>\n      <th>DATE</th>\n      <th></th>\n    </tr>\n  </thead>\n  <tbody>\n    <tr>\n      <th>2016-07-05</th>\n      <td>2088.55</td>\n    </tr>\n    <tr>\n      <th>2016-07-06</th>\n      <td>2099.73</td>\n    </tr>\n    <tr>\n      <th>2016-07-07</th>\n      <td>2097.90</td>\n    </tr>\n    <tr>\n      <th>2016-07-08</th>\n      <td>2129.90</td>\n    </tr>\n    <tr>\n      <th>2016-07-11</th>\n      <td>2137.16</td>\n    </tr>\n    <tr>\n      <th>...</th>\n      <td>...</td>\n    </tr>\n    <tr>\n      <th>2021-06-28</th>\n      <td>4290.61</td>\n    </tr>\n    <tr>\n      <th>2021-06-29</th>\n      <td>4291.80</td>\n    </tr>\n    <tr>\n      <th>2021-06-30</th>\n      <td>4297.50</td>\n    </tr>\n    <tr>\n      <th>2021-07-01</th>\n      <td>4319.94</td>\n    </tr>\n    <tr>\n      <th>2021-07-02</th>\n      <td>4352.34</td>\n    </tr>\n  </tbody>\n</table>\n<p>1304 rows × 1 columns</p>\n</div>"
     },
     "metadata": {},
     "execution_count": 36
    }
   ],
   "source": [
    "import pandas_datareader.data as web\n",
    "import datetime\n",
    "\n",
    "start = datetime.datetime(2015, 1, 1)\n",
    "end = datetime.datetime(2017, 1, 1)\n",
    "web.get_data_fred('sp500')"
   ]
  },
  {
   "cell_type": "code",
   "execution_count": 104,
   "metadata": {},
   "outputs": [
    {
     "output_type": "stream",
     "name": "stdout",
     "text": [
      "[*********************100%***********************]  1 of 1 completed\n",
      "\n",
      "1 Failed download:\n",
      "- IFIX.SA: 1d data not available for startTime=-2208988800 and endTime=1625673486. Only 100 years worth of day granularity data are allowed to be fetched per request.\n"
     ]
    },
    {
     "output_type": "execute_result",
     "data": {
      "text/plain": [
       "Empty DataFrame\n",
       "Columns: [Open, High, Low, Close, Adj Close, Volume]\n",
       "Index: []"
      ],
      "text/html": "<div>\n<style scoped>\n    .dataframe tbody tr th:only-of-type {\n        vertical-align: middle;\n    }\n\n    .dataframe tbody tr th {\n        vertical-align: top;\n    }\n\n    .dataframe thead th {\n        text-align: right;\n    }\n</style>\n<table border=\"1\" class=\"dataframe\">\n  <thead>\n    <tr style=\"text-align: right;\">\n      <th></th>\n      <th>Open</th>\n      <th>High</th>\n      <th>Low</th>\n      <th>Close</th>\n      <th>Adj Close</th>\n      <th>Volume</th>\n    </tr>\n    <tr>\n      <th>Date</th>\n      <th></th>\n      <th></th>\n      <th></th>\n      <th></th>\n      <th></th>\n      <th></th>\n    </tr>\n  </thead>\n  <tbody>\n  </tbody>\n</table>\n</div>"
     },
     "metadata": {},
     "execution_count": 104
    }
   ],
   "source": [
    "import yfinance as yf\n",
    "df = yf.download(\"ifix.sa\")\n",
    "df"
   ]
  },
  {
   "cell_type": "code",
   "execution_count": 76,
   "metadata": {},
   "outputs": [],
   "source": [
    "import profit\n",
    "import json\n",
    "from datetime import date\n",
    "\n",
    "df = profit.ind()\n",
    "df =df.groupby(pd.Grouper(freq='M')).last()[-12:]['Close']\n"
   ]
  },
  {
   "cell_type": "code",
   "execution_count": 98,
   "metadata": {},
   "outputs": [
    {
     "output_type": "stream",
     "name": "stdout",
     "text": [
      "08     0.0\n09     -0.04796264428544117\n10     -0.05451398323420786\n11     0.09579446306192074\n12     0.20063601324356695\n01     0.16743652446940183\n02     0.10733729835260486\n03     0.17374633940162432\n04     0.19648985095955473\n05     0.27017480300697394\n06     0.276072014410933\n07     0.25946244238645866\n"
     ]
    }
   ],
   "source": [
    "data = {month: float(close/df.head(1)-1) for (month, close) in zip(df.index.strftime('%m'), df)}\n",
    "\n",
    "for key in data:\n",
    "    print(key, \"   \", data[key])\n"
   ]
  }
 ]
}