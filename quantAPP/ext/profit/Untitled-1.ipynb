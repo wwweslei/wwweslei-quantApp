{
 "metadata": {
  "language_info": {
   "codemirror_mode": {
    "name": "ipython",
    "version": 3
   },
   "file_extension": ".py",
   "mimetype": "text/x-python",
   "name": "python",
   "nbconvert_exporter": "python",
   "pygments_lexer": "ipython3",
   "version": "3.9.4"
  },
  "orig_nbformat": 2,
  "kernelspec": {
   "name": "python3",
   "display_name": "Python 3.9.4 64-bit ('.venv': venv)"
  },
  "metadata": {
   "interpreter": {
    "hash": "c3fe37bb29c4612d2af316e710ac68b159dc2528420990cbeb8a542f85383c10"
   }
  },
  "interpreter": {
   "hash": "c3fe37bb29c4612d2af316e710ac68b159dc2528420990cbeb8a542f85383c10"
  }
 },
 "nbformat": 4,
 "nbformat_minor": 2,
 "cells": [
  {
   "cell_type": "code",
   "execution_count": 1,
   "metadata": {},
   "outputs": [],
   "source": [
    "import pandas_datareader.data as web\n",
    "import pandas as pd\n",
    "from datetime import datetime, date, timedelta\n",
    "from dateutil.relativedelta import relativedelta\n",
    "from quantAPP.config import Config\n",
    "from sqlalchemy import create_engine\n",
    "import pandas_datareader.data as web\n",
    "from typing import Dict\n",
    "import yfinance as yf\n",
    "import pandas as pd\n",
    "\n",
    "\n",
    "config = Config()\n",
    "path = r\"C:\\Users\\wwwes\\Documents\\wwweslei-quantApp\\quantAPP\\ext\\profit\\company_files\"\n",
    "engine = create_engine(config.SQLALCHEMY_DATABASE_URI,\n",
    "                       echo=config.SQLALCHEMY_ECHO)\n",
    "\n",
    "def create_dictionary(df):\n",
    "    df = df.groupby(pd.Grouper(freq='M')).last()[-13:]['Close']\n",
    "    data = {month: float(close/df.head(1)-1)\n",
    "            for (month, close) in zip(df.index.strftime('%m/%y'), df)}\n",
    "    return data\n",
    "def wdo(is_update: bool = False) -> pd.DataFrame:\n",
    "    if is_update:\n",
    "        df = web.DataReader(\"usd/brl\", \"av-forex-daily\",\n",
    "                            api_key=config.API_KEY)\n",
    "        df.index = pd.to_datetime(df.index)\n",
    "        df.columns = [\"Open\", \"High\", \"Low\", \"Close\"]\n",
    "        df.index.names = [\"Date\"]\n",
    "        df.to_sql(\"WDO\", con=engine, if_exists=\"replace\")\n",
    "        return df\n",
    "    df = pd.read_sql(\"SELECT * FROM WDO\", con=engine, index_col=\"Date\")\n",
    "    df.index = pd.to_datetime(df.index)\n",
    "    return df\n",
    "def stock(ticket: str, is_update: bool = False) -> pd.DataFrame:\n",
    "    if is_update:\n",
    "        df = yf.download(ticket)\n",
    "        df.to_sql(ticket, con=engine, if_exists=\"replace\")\n",
    "        return df\n",
    "    df = pd.read_sql(f\"SELECT * FROM {ticket}\", con=engine, index_col=\"Date\")\n",
    "    df.index = pd.to_datetime(df.index)\n",
    "    return df\n",
    "df = stock('PETR4')\n",
    "mes12 = df.groupby(pd.Grouper(freq='M')).last()[-13:-12]['Close']\n",
    "annual = df.groupby(pd.Grouper(freq='M')).last()[-(date.today().month+1):]['Close'].head(1)\n",
    "week = df.groupby(pd.Grouper(freq='w')).last()[-2:-1]['Close']"
   ]
  },
  {
   "cell_type": "code",
   "execution_count": 22,
   "metadata": {},
   "outputs": [
    {
     "output_type": "execute_result",
     "data": {
      "text/plain": [
       "                 Open       High        Low      Close  Adj Close    Volume\n",
       "Date                                                                       \n",
       "2020-07-09  22.780001  22.809999  22.059999  22.139999  21.418694  57151500"
      ],
      "text/html": "<div>\n<style scoped>\n    .dataframe tbody tr th:only-of-type {\n        vertical-align: middle;\n    }\n\n    .dataframe tbody tr th {\n        vertical-align: top;\n    }\n\n    .dataframe thead th {\n        text-align: right;\n    }\n</style>\n<table border=\"1\" class=\"dataframe\">\n  <thead>\n    <tr style=\"text-align: right;\">\n      <th></th>\n      <th>Open</th>\n      <th>High</th>\n      <th>Low</th>\n      <th>Close</th>\n      <th>Adj Close</th>\n      <th>Volume</th>\n    </tr>\n    <tr>\n      <th>Date</th>\n      <th></th>\n      <th></th>\n      <th></th>\n      <th></th>\n      <th></th>\n      <th></th>\n    </tr>\n  </thead>\n  <tbody>\n    <tr>\n      <th>2020-07-09</th>\n      <td>22.780001</td>\n      <td>22.809999</td>\n      <td>22.059999</td>\n      <td>22.139999</td>\n      <td>21.418694</td>\n      <td>57151500</td>\n    </tr>\n  </tbody>\n</table>\n</div>"
     },
     "metadata": {},
     "execution_count": 22
    }
   ],
   "source": [
    "df[df.index < datetime.today() - relativedelta(years=1)].tail(1)"
   ]
  }
 ]
}