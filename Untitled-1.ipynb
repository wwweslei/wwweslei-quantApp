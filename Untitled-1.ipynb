{
 "metadata": {
  "language_info": {
   "codemirror_mode": {
    "name": "ipython",
    "version": 3
   },
   "file_extension": ".py",
   "mimetype": "text/x-python",
   "name": "python",
   "nbconvert_exporter": "python",
   "pygments_lexer": "ipython3",
   "version": "3.9.4"
  },
  "orig_nbformat": 2,
  "kernelspec": {
   "name": "pythonjvsc74a57bd0c3fe37bb29c4612d2af316e710ac68b159dc2528420990cbeb8a542f85383c10",
   "display_name": "Python 3.9.4  ('.venv': venv)"
  },
  "metadata": {
   "interpreter": {
    "hash": "c3fe37bb29c4612d2af316e710ac68b159dc2528420990cbeb8a542f85383c10"
   }
  }
 },
 "nbformat": 4,
 "nbformat_minor": 2,
 "cells": [
  {
   "cell_type": "code",
   "execution_count": 2,
   "metadata": {},
   "outputs": [],
   "source": [
    "from selenium import webdriver\n",
    "from selenium.webdriver.common.keys import Keys\n",
    "from selenium.webdriver.common.by import By\n",
    "from selenium.webdriver.support.ui import WebDriverWait\n",
    "from selenium.webdriver.support import expected_conditions as EC\n",
    "import pandas as pd\n",
    "import time\n",
    "\n",
    "\n",
    "URL = \"https://sistemaswebb3-listados.b3.com.br/indexPage/day/IBOV?language=pt-br\"\n",
    "\n",
    "firefox = webdriver.Firefox()\n",
    "firefox.get(URL)\n",
    "\n",
    "\n",
    "def wait_while_Finding(seletor, name):\n",
    "    return WebDriverWait(firefox, 10).until(\n",
    "        EC.presence_of_element_located((seletor, name))\n",
    "    )\n",
    "\n",
    "\n",
    "wait_while_Finding(By.ID, \"segment\").send_keys(\"Setor de Atuação\")\n",
    "wait_while_Finding(By.ID, \"selectPage\").send_keys(Keys.ARROW_DOWN)\n",
    "wait_while_Finding(By.ID, \"selectPage\").send_keys(Keys.ARROW_DOWN)\n",
    "wait_while_Finding(By.ID, \"selectPage\").send_keys(Keys.ARROW_DOWN)\n",
    "time.sleep(8)\n",
    "table = wait_while_Finding(By.CLASS_NAME, \"table\").get_attribute('outerHTML')"
   ]
  },
  {
   "cell_type": "code",
   "execution_count": 8,
   "metadata": {},
   "outputs": [],
   "source": [
    "df = pd.read_html(table)[0]"
   ]
  },
  {
   "cell_type": "code",
   "execution_count": 9,
   "metadata": {},
   "outputs": [],
   "source": [
    "df.drop(df.tail(2).index,inplace=True)\n",
    "df.columns = ['Setor', 'Código', 'Ação', 'Tipo', 'Qtde. Teórica', 'Part. (%)', 'Part. (%)Acum']"
   ]
  },
  {
   "cell_type": "code",
   "execution_count": 10,
   "metadata": {},
   "outputs": [
    {
     "output_type": "execute_result",
     "data": {
      "text/plain": [
       "                              Setor  Código          Ação      Tipo  \\\n",
       "0        Bens Indls / Máqs e Equips   WEGE3           WEG     ON NM   \n",
       "1       Bens Indls / Mat Transporte   EMBR3       EMBRAER     ON NM   \n",
       "2             Bens Indls/Transporte   AZUL4          AZUL     PN N2   \n",
       "3             Bens Indls/Transporte   CCRO3        CCR SA     ON NM   \n",
       "4             Bens Indls/Transporte   ECOR3   ECORODOVIAS     ON NM   \n",
       "..                              ...     ...           ...       ...   \n",
       "79  Utilidade Públ / Energ Elétrica  ENGI11      ENERGISA    UNT N2   \n",
       "80  Utilidade Públ / Energ Elétrica   ENEV3         ENEVA     ON NM   \n",
       "81  Utilidade Públ / Energ Elétrica   EGIE3  ENGIE BRASIL  ON ED NM   \n",
       "82  Utilidade Públ / Energ Elétrica   EQTL3    EQUATORIAL     ON NM   \n",
       "83  Utilidade Públ / Energ Elétrica  TAEE11         TAESA    UNT N2   \n",
       "\n",
       "    Qtde. Teórica  Part. (%)  Part. (%)Acum  \n",
       "0   1.482.296.002     2154.0         2154.0  \n",
       "1     736.143.105      533.0          533.0  \n",
       "2     327.262.616      588.0         2673.0  \n",
       "3   1.115.693.556      676.0         2673.0  \n",
       "4     172.602.770       94.0         2673.0  \n",
       "..            ...        ...            ...  \n",
       "79    250.679.709      514.0         5730.0  \n",
       "80  1.248.545.726      935.0         5730.0  \n",
       "81    254.792.279      462.0         5730.0  \n",
       "82  1.010.286.085     1157.0         5730.0  \n",
       "83    218.568.274      397.0         5730.0  \n",
       "\n",
       "[84 rows x 7 columns]"
      ],
      "text/html": "<div>\n<style scoped>\n    .dataframe tbody tr th:only-of-type {\n        vertical-align: middle;\n    }\n\n    .dataframe tbody tr th {\n        vertical-align: top;\n    }\n\n    .dataframe thead th {\n        text-align: right;\n    }\n</style>\n<table border=\"1\" class=\"dataframe\">\n  <thead>\n    <tr style=\"text-align: right;\">\n      <th></th>\n      <th>Setor</th>\n      <th>Código</th>\n      <th>Ação</th>\n      <th>Tipo</th>\n      <th>Qtde. Teórica</th>\n      <th>Part. (%)</th>\n      <th>Part. (%)Acum</th>\n    </tr>\n  </thead>\n  <tbody>\n    <tr>\n      <th>0</th>\n      <td>Bens Indls / Máqs e Equips</td>\n      <td>WEGE3</td>\n      <td>WEG</td>\n      <td>ON NM</td>\n      <td>1.482.296.002</td>\n      <td>2154.0</td>\n      <td>2154.0</td>\n    </tr>\n    <tr>\n      <th>1</th>\n      <td>Bens Indls / Mat Transporte</td>\n      <td>EMBR3</td>\n      <td>EMBRAER</td>\n      <td>ON NM</td>\n      <td>736.143.105</td>\n      <td>533.0</td>\n      <td>533.0</td>\n    </tr>\n    <tr>\n      <th>2</th>\n      <td>Bens Indls/Transporte</td>\n      <td>AZUL4</td>\n      <td>AZUL</td>\n      <td>PN N2</td>\n      <td>327.262.616</td>\n      <td>588.0</td>\n      <td>2673.0</td>\n    </tr>\n    <tr>\n      <th>3</th>\n      <td>Bens Indls/Transporte</td>\n      <td>CCRO3</td>\n      <td>CCR SA</td>\n      <td>ON NM</td>\n      <td>1.115.693.556</td>\n      <td>676.0</td>\n      <td>2673.0</td>\n    </tr>\n    <tr>\n      <th>4</th>\n      <td>Bens Indls/Transporte</td>\n      <td>ECOR3</td>\n      <td>ECORODOVIAS</td>\n      <td>ON NM</td>\n      <td>172.602.770</td>\n      <td>94.0</td>\n      <td>2673.0</td>\n    </tr>\n    <tr>\n      <th>...</th>\n      <td>...</td>\n      <td>...</td>\n      <td>...</td>\n      <td>...</td>\n      <td>...</td>\n      <td>...</td>\n      <td>...</td>\n    </tr>\n    <tr>\n      <th>79</th>\n      <td>Utilidade Públ / Energ Elétrica</td>\n      <td>ENGI11</td>\n      <td>ENERGISA</td>\n      <td>UNT N2</td>\n      <td>250.679.709</td>\n      <td>514.0</td>\n      <td>5730.0</td>\n    </tr>\n    <tr>\n      <th>80</th>\n      <td>Utilidade Públ / Energ Elétrica</td>\n      <td>ENEV3</td>\n      <td>ENEVA</td>\n      <td>ON NM</td>\n      <td>1.248.545.726</td>\n      <td>935.0</td>\n      <td>5730.0</td>\n    </tr>\n    <tr>\n      <th>81</th>\n      <td>Utilidade Públ / Energ Elétrica</td>\n      <td>EGIE3</td>\n      <td>ENGIE BRASIL</td>\n      <td>ON ED NM</td>\n      <td>254.792.279</td>\n      <td>462.0</td>\n      <td>5730.0</td>\n    </tr>\n    <tr>\n      <th>82</th>\n      <td>Utilidade Públ / Energ Elétrica</td>\n      <td>EQTL3</td>\n      <td>EQUATORIAL</td>\n      <td>ON NM</td>\n      <td>1.010.286.085</td>\n      <td>1157.0</td>\n      <td>5730.0</td>\n    </tr>\n    <tr>\n      <th>83</th>\n      <td>Utilidade Públ / Energ Elétrica</td>\n      <td>TAEE11</td>\n      <td>TAESA</td>\n      <td>UNT N2</td>\n      <td>218.568.274</td>\n      <td>397.0</td>\n      <td>5730.0</td>\n    </tr>\n  </tbody>\n</table>\n<p>84 rows × 7 columns</p>\n</div>"
     },
     "metadata": {},
     "execution_count": 10
    }
   ],
   "source": [
    "df "
   ]
  }
 ]
}