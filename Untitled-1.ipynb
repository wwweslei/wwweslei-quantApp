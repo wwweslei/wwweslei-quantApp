{
 "metadata": {
  "language_info": {
   "codemirror_mode": {
    "name": "ipython",
    "version": 3
   },
   "file_extension": ".py",
   "mimetype": "text/x-python",
   "name": "python",
   "nbconvert_exporter": "python",
   "pygments_lexer": "ipython3",
   "version": "3.9.4"
  },
  "orig_nbformat": 2,
  "kernelspec": {
   "name": "python3",
   "display_name": "Python 3.9.4 64-bit ('.venv': venv)"
  },
  "metadata": {
   "interpreter": {
    "hash": "c3fe37bb29c4612d2af316e710ac68b159dc2528420990cbeb8a542f85383c10"
   }
  },
  "interpreter": {
   "hash": "c3fe37bb29c4612d2af316e710ac68b159dc2528420990cbeb8a542f85383c10"
  }
 },
 "nbformat": 4,
 "nbformat_minor": 2,
 "cells": [
  {
   "cell_type": "code",
   "execution_count": 96,
   "metadata": {},
   "outputs": [],
   "source": [
    "import pandas as pd \n",
    "\n",
    "df = pd.read_html(\"https://www.infomoney.com.br/cotacoes/empresas-b3/\")\n"
   ]
  },
  {
   "cell_type": "code",
   "execution_count": 107,
   "metadata": {},
   "outputs": [],
   "source": [
    "frames = [\n",
    "df[10].assign(setor=\"Utilidade Pública\"),\n",
    "df[9].assign(setor=\"Telecomunicações\"),\n",
    "df[8].assign(setor=\"Tecnologia da Informação\"),\n",
    "df[7].assign(setor=\"Saúde\"),\n",
    "df[6].assign(setor=\"Petróleo, Gás e Biocombustíveis\"),\n",
    "df[4].assign(setor=\"Materiais Básicos\"),\n",
    "df[5].assign(setor=\"Outros\"),\n",
    "df[3].assign(setor=\"Financeiro\"),\n",
    "df[2].assign(setor=\"Consumo não Cíclico\"),\n",
    "df[1].assign(setor=\"Consumo Cíclico\"),\n",
    "df[0].assign(setor=\"Bens Industriais\"),\n",
    "]\n",
    "result = pd.concat(frames)"
   ]
  },
  {
   "cell_type": "code",
   "execution_count": 130,
   "metadata": {},
   "outputs": [
    {
     "output_type": "execute_result",
     "data": {
      "text/plain": [
       "                 Empresas  Ativos Unnamed: 2 Unnamed: 3 Unnamed: 4 Unnamed: 5  \\\n",
       "0                   CELPE  CEPE6F     CEPE5F     CEPE3F      CEPE6      CEPE5   \n",
       "1                  CEEE-D  CEED3F     CEED4F      CEED4      CEED3        NaN   \n",
       "2                 CEEE-GT  EEEL4F     EEEL3F      EEEL4      EEEL3        NaN   \n",
       "3                   CASAN  CASN4F     CASN3F      CASN4      CASN3        NaN   \n",
       "4                     CEG  CEGR3F      CEGR3        NaN        NaN        NaN   \n",
       "..                    ...     ...        ...        ...        ...        ...   \n",
       "1                      OI  OIBR4F      OIBR4       OIBR        NaN        NaN   \n",
       "2       TIM PARTICIPAÇÕES  TIMS3F      TIMS3        NaN        NaN        NaN   \n",
       "3   TELEFÔNICA BRASIL S.A  VIVT4F      VIVT4     VIVT3F      VIVT3        NaN   \n",
       "4                TELEBRAS  TELB4F      TELB4     TELB3F      TELB3        NaN   \n",
       "5                 ATT INC  ATTB34        NaN        NaN        NaN        NaN   \n",
       "\n",
       "   Unnamed: 6              setor  \n",
       "0       CEPE3  Utilidade Pública  \n",
       "1         NaN  Utilidade Pública  \n",
       "2         NaN  Utilidade Pública  \n",
       "3         NaN  Utilidade Pública  \n",
       "4         NaN  Utilidade Pública  \n",
       "..        ...                ...  \n",
       "1         NaN   Telecomunicações  \n",
       "2         NaN   Telecomunicações  \n",
       "3         NaN   Telecomunicações  \n",
       "4         NaN   Telecomunicações  \n",
       "5         NaN   Telecomunicações  \n",
       "\n",
       "[418 rows x 8 columns]"
      ],
      "text/html": "<div>\n<style scoped>\n    .dataframe tbody tr th:only-of-type {\n        vertical-align: middle;\n    }\n\n    .dataframe tbody tr th {\n        vertical-align: top;\n    }\n\n    .dataframe thead th {\n        text-align: right;\n    }\n</style>\n<table border=\"1\" class=\"dataframe\">\n  <thead>\n    <tr style=\"text-align: right;\">\n      <th></th>\n      <th>Empresas</th>\n      <th>Ativos</th>\n      <th>Unnamed: 2</th>\n      <th>Unnamed: 3</th>\n      <th>Unnamed: 4</th>\n      <th>Unnamed: 5</th>\n      <th>Unnamed: 6</th>\n      <th>setor</th>\n    </tr>\n  </thead>\n  <tbody>\n    <tr>\n      <th>0</th>\n      <td>CELPE</td>\n      <td>CEPE6F</td>\n      <td>CEPE5F</td>\n      <td>CEPE3F</td>\n      <td>CEPE6</td>\n      <td>CEPE5</td>\n      <td>CEPE3</td>\n      <td>Utilidade Pública</td>\n    </tr>\n    <tr>\n      <th>1</th>\n      <td>CEEE-D</td>\n      <td>CEED3F</td>\n      <td>CEED4F</td>\n      <td>CEED4</td>\n      <td>CEED3</td>\n      <td>NaN</td>\n      <td>NaN</td>\n      <td>Utilidade Pública</td>\n    </tr>\n    <tr>\n      <th>2</th>\n      <td>CEEE-GT</td>\n      <td>EEEL4F</td>\n      <td>EEEL3F</td>\n      <td>EEEL4</td>\n      <td>EEEL3</td>\n      <td>NaN</td>\n      <td>NaN</td>\n      <td>Utilidade Pública</td>\n    </tr>\n    <tr>\n      <th>3</th>\n      <td>CASAN</td>\n      <td>CASN4F</td>\n      <td>CASN3F</td>\n      <td>CASN4</td>\n      <td>CASN3</td>\n      <td>NaN</td>\n      <td>NaN</td>\n      <td>Utilidade Pública</td>\n    </tr>\n    <tr>\n      <th>4</th>\n      <td>CEG</td>\n      <td>CEGR3F</td>\n      <td>CEGR3</td>\n      <td>NaN</td>\n      <td>NaN</td>\n      <td>NaN</td>\n      <td>NaN</td>\n      <td>Utilidade Pública</td>\n    </tr>\n    <tr>\n      <th>...</th>\n      <td>...</td>\n      <td>...</td>\n      <td>...</td>\n      <td>...</td>\n      <td>...</td>\n      <td>...</td>\n      <td>...</td>\n      <td>...</td>\n    </tr>\n    <tr>\n      <th>1</th>\n      <td>OI</td>\n      <td>OIBR4F</td>\n      <td>OIBR4</td>\n      <td>OIBR</td>\n      <td>NaN</td>\n      <td>NaN</td>\n      <td>NaN</td>\n      <td>Telecomunicações</td>\n    </tr>\n    <tr>\n      <th>2</th>\n      <td>TIM PARTICIPAÇÕES</td>\n      <td>TIMS3F</td>\n      <td>TIMS3</td>\n      <td>NaN</td>\n      <td>NaN</td>\n      <td>NaN</td>\n      <td>NaN</td>\n      <td>Telecomunicações</td>\n    </tr>\n    <tr>\n      <th>3</th>\n      <td>TELEFÔNICA BRASIL S.A</td>\n      <td>VIVT4F</td>\n      <td>VIVT4</td>\n      <td>VIVT3F</td>\n      <td>VIVT3</td>\n      <td>NaN</td>\n      <td>NaN</td>\n      <td>Telecomunicações</td>\n    </tr>\n    <tr>\n      <th>4</th>\n      <td>TELEBRAS</td>\n      <td>TELB4F</td>\n      <td>TELB4</td>\n      <td>TELB3F</td>\n      <td>TELB3</td>\n      <td>NaN</td>\n      <td>NaN</td>\n      <td>Telecomunicações</td>\n    </tr>\n    <tr>\n      <th>5</th>\n      <td>ATT INC</td>\n      <td>ATTB34</td>\n      <td>NaN</td>\n      <td>NaN</td>\n      <td>NaN</td>\n      <td>NaN</td>\n      <td>NaN</td>\n      <td>Telecomunicações</td>\n    </tr>\n  </tbody>\n</table>\n<p>418 rows × 8 columns</p>\n</div>"
     },
     "metadata": {},
     "execution_count": 130
    }
   ],
   "source": [
    "result['Empresas'] = result['Empresas'].str.upper()\n",
    "result"
   ]
  }
 ]
}