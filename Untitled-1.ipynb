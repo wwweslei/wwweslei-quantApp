{
 "metadata": {
  "language_info": {
   "codemirror_mode": {
    "name": "ipython",
    "version": 3
   },
   "file_extension": ".py",
   "mimetype": "text/x-python",
   "name": "python",
   "nbconvert_exporter": "python",
   "pygments_lexer": "ipython3",
   "version": "3.9.4"
  },
  "orig_nbformat": 2,
  "kernelspec": {
   "name": "python3",
   "display_name": "Python 3.9.4 64-bit ('.venv': venv)"
  },
  "metadata": {
   "interpreter": {
    "hash": "c3fe37bb29c4612d2af316e710ac68b159dc2528420990cbeb8a542f85383c10"
   }
  },
  "interpreter": {
   "hash": "c3fe37bb29c4612d2af316e710ac68b159dc2528420990cbeb8a542f85383c10"
  }
 },
 "nbformat": 4,
 "nbformat_minor": 2,
 "cells": [
  {
   "cell_type": "code",
   "execution_count": 93,
   "metadata": {},
   "outputs": [],
   "source": [
    "from sqlalchemy import create_engine\n",
    "import pandas as pd\n",
    "engine = create_engine(\"sqlite:///banco.db\", echo=True)\n",
    "\n",
    "def calc(first_value, last_value):\n",
    "        return round((first_value / last_value - 1) * 100, 2)\n",
    "\n",
    "\n",
    "from pandas_datareader import data as wb\n",
    "from sqlalchemy import create_engine\n",
    "class Stock:\n",
    "    def __init__(self, ticket, name):\n",
    "        self.ticket = ticket\n",
    "        self.name = name\n",
    "        self.engine = create_engine(\"sqlite:///banco.db\", echo=True)\n",
    "\n",
    "    def get_historical_data(self, frequency):\n",
    "        if(self.ticket[-1].isdigit()):\n",
    "            last_price = wb.get_data_yahoo(self.ticket + \".SA\", interval=frequency)\n",
    "        else:\n",
    "            last_price = wb.get_data_yahoo(self.ticket, interval=frequency)\n",
    "        return last_price\n",
    "\n",
    "    def get_tables(self):\n",
    "        return [self.get_historical_data(frequency) for frequency in [\"d\", \"w\", \"m\"]]\n",
    "\n",
    "\n",
    "    def save(self):\n",
    "        tables = self.get_tables()\n",
    "        for table, frequency in zip(tables, [\"daily\", \"weekly\", \"monthly\"]):\n",
    "            table.to_sql(f\"{self.name}_{frequency}\", con=self.engine, if_exists=\"replace\")\n",
    "        return True\n",
    "\n"
   ]
  },
  {
   "cell_type": "code",
   "execution_count": 94,
   "metadata": {},
   "outputs": [
    {
     "output_type": "stream",
     "name": "stdout",
     "text": [
      "2021-06-22 15:20:48,039 INFO sqlalchemy.engine.base.Engine SELECT CAST('test plain returns' AS VARCHAR(60)) AS anon_1\n",
      "2021-06-22 15:20:48,040 INFO sqlalchemy.engine.base.Engine ()\n",
      "2021-06-22 15:20:48,042 INFO sqlalchemy.engine.base.Engine SELECT CAST('test unicode returns' AS VARCHAR(60)) AS anon_1\n",
      "2021-06-22 15:20:48,044 INFO sqlalchemy.engine.base.Engine ()\n",
      "2021-06-22 15:20:48,045 INFO sqlalchemy.engine.base.OptionEngine SELECT  * FROM IBOVESPA_DAILY\n",
      "2021-06-22 15:20:48,047 INFO sqlalchemy.engine.base.OptionEngine ()\n"
     ]
    },
    {
     "output_type": "execute_result",
     "data": {
      "text/plain": [
       "129265.0"
      ]
     },
     "metadata": {},
     "execution_count": 94
    }
   ],
   "source": [
    "ibov_daily = pd.read_sql_query(\"SELECT  * FROM IBOVESPA_DAILY\", engine)\n",
    "i = ibov_daily.tail(1)\n",
    "e = ibov_daily.tail(2)\n",
    "e.iloc[0]['Close']"
   ]
  },
  {
   "cell_type": "code",
   "execution_count": 102,
   "metadata": {},
   "outputs": [],
   "source": [
    "ibov = Stock(\"^BVSP\", 'ibovespa')\n",
    "ibov= ibov.get_historical_data(\"d\")\n"
   ]
  },
  {
   "cell_type": "code",
   "execution_count": 108,
   "metadata": {},
   "outputs": [
    {
     "output_type": "execute_result",
     "data": {
      "text/plain": [
       "-0.93"
      ]
     },
     "metadata": {},
     "execution_count": 108
    }
   ],
   "source": [
    "ibov = ibov.tail(2)\n",
    "day = ibov.iloc[0]['Close']\n",
    "yesterday = ibov.iloc[1]['Close']\n",
    "calc( end, f)"
   ]
  }
 ]
}